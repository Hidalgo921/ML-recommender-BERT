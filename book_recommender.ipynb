{
 "cells": [
  {
   "cell_type": "code",
   "execution_count": 1,
   "metadata": {},
   "outputs": [],
   "source": [
    "import torch \n",
    "from transformers import BertForQuestionAnswering\n",
    "from sentence_transformers import SentenceTransformer, util\n",
    "import pandas as pd\n",
    "import numpy as np\n",
    "from dotenv import load_dotenv\n",
    "from scipy.spatial.distance import cosine\n",
    "import matplotlib.pyplot as plt\n",
    "import os\n",
    "import numpy as np\n",
    "import pandas as pd\n",
    "import re\n",
    "from nltk.corpus import stopwords\n",
    "import math\n",
    "import time\n",
    "import importlib"
   ]
  },
  {
   "cell_type": "code",
   "execution_count": 2,
   "metadata": {},
   "outputs": [
    {
     "name": "stderr",
     "output_type": "stream",
     "text": [
      "[nltk_data] Downloading package stopwords to\n",
      "[nltk_data]     C:\\Users\\rgers\\AppData\\Roaming\\nltk_data...\n",
      "[nltk_data]   Package stopwords is already up-to-date!\n"
     ]
    },
    {
     "data": {
      "text/plain": [
       "True"
      ]
     },
     "execution_count": 2,
     "metadata": {},
     "output_type": "execute_result"
    }
   ],
   "source": [
    "import nltk\n",
    "nltk.download('stopwords')"
   ]
  },
  {
   "cell_type": "code",
   "execution_count": 3,
   "metadata": {},
   "outputs": [],
   "source": [
    "env = load_dotenv()\n",
    "HF_API_KEY = os.getenv('HF_KEY')"
   ]
  },
  {
   "cell_type": "code",
   "execution_count": 4,
   "metadata": {},
   "outputs": [],
   "source": [
    "model_name = 'sentence-transformers/all-MiniLM-L6-v2'\n",
    "stop_words = [i for i in set(stopwords.words('english'))]"
   ]
  },
  {
   "cell_type": "code",
   "execution_count": 5,
   "metadata": {},
   "outputs": [],
   "source": [
    "from dataset import DatasetLoader\n",
    "from DataPreprocessor import DataPreprocessor\n",
    "\n",
    "data_path = '.\\goodreads_data.csv'\n",
    "\n",
    "data = DatasetLoader(data_path)\n",
    "df = data.load_data(type = 'csv')\n",
    "\n",
    "df = df.rename(columns = {'Unnamed: 0': 'idx'})\n",
    "df = df.drop_duplicates(subset= ['Description'])\n",
    "\n",
    "\n",
    "preprocessor = DataPreprocessor(df)\n",
    "\n",
    "processed_col = 'processed_desc'\n",
    "df[processed_col] = preprocessor.remove_stop(stop_words, col = 'Description')\n",
    "df[processed_col] = [str(i) for i in df[processed_col].values]"
   ]
  },
  {
   "cell_type": "code",
   "execution_count": 192,
   "metadata": {},
   "outputs": [
    {
     "data": {
      "text/html": [
       "<div>\n",
       "<style scoped>\n",
       "    .dataframe tbody tr th:only-of-type {\n",
       "        vertical-align: middle;\n",
       "    }\n",
       "\n",
       "    .dataframe tbody tr th {\n",
       "        vertical-align: top;\n",
       "    }\n",
       "\n",
       "    .dataframe thead th {\n",
       "        text-align: right;\n",
       "    }\n",
       "</style>\n",
       "<table border=\"1\" class=\"dataframe\">\n",
       "  <thead>\n",
       "    <tr style=\"text-align: right;\">\n",
       "      <th></th>\n",
       "      <th>idx</th>\n",
       "      <th>Book</th>\n",
       "      <th>Author</th>\n",
       "      <th>Description</th>\n",
       "      <th>Genres</th>\n",
       "      <th>Avg_Rating</th>\n",
       "      <th>Num_Ratings</th>\n",
       "      <th>URL</th>\n",
       "      <th>processed_desc</th>\n",
       "    </tr>\n",
       "  </thead>\n",
       "  <tbody>\n",
       "    <tr>\n",
       "      <th>0</th>\n",
       "      <td>0</td>\n",
       "      <td>To Kill a Mockingbird</td>\n",
       "      <td>Harper Lee</td>\n",
       "      <td>The unforgettable novel of a childhood in a sl...</td>\n",
       "      <td>['Classics', 'Fiction', 'Historical Fiction', ...</td>\n",
       "      <td>4.27</td>\n",
       "      <td>5,691,311</td>\n",
       "      <td>https://www.goodreads.com/book/show/2657.To_Ki...</td>\n",
       "      <td>unforgettable novel childhood sleepy southern ...</td>\n",
       "    </tr>\n",
       "    <tr>\n",
       "      <th>1</th>\n",
       "      <td>1</td>\n",
       "      <td>Harry Potter and the Philosopher’s Stone (Harr...</td>\n",
       "      <td>J.K. Rowling</td>\n",
       "      <td>Harry Potter thinks he is an ordinary boy - un...</td>\n",
       "      <td>['Fantasy', 'Fiction', 'Young Adult', 'Magic',...</td>\n",
       "      <td>4.47</td>\n",
       "      <td>9,278,135</td>\n",
       "      <td>https://www.goodreads.com/book/show/72193.Harr...</td>\n",
       "      <td>harry potter thinks ordinary boy rescued owl t...</td>\n",
       "    </tr>\n",
       "    <tr>\n",
       "      <th>2</th>\n",
       "      <td>2</td>\n",
       "      <td>Pride and Prejudice</td>\n",
       "      <td>Jane Austen</td>\n",
       "      <td>Since its immediate success in 1813, Pride and...</td>\n",
       "      <td>['Classics', 'Fiction', 'Romance', 'Historical...</td>\n",
       "      <td>4.28</td>\n",
       "      <td>3,944,155</td>\n",
       "      <td>https://www.goodreads.com/book/show/1885.Pride...</td>\n",
       "      <td>since immediate success 1813 pride prejudice r...</td>\n",
       "    </tr>\n",
       "    <tr>\n",
       "      <th>3</th>\n",
       "      <td>3</td>\n",
       "      <td>The Diary of a Young Girl</td>\n",
       "      <td>Anne Frank</td>\n",
       "      <td>Discovered in the attic in which she spent the...</td>\n",
       "      <td>['Classics', 'Nonfiction', 'History', 'Biograp...</td>\n",
       "      <td>4.18</td>\n",
       "      <td>3,488,438</td>\n",
       "      <td>https://www.goodreads.com/book/show/48855.The_...</td>\n",
       "      <td>discovered attic spent last years life anne fr...</td>\n",
       "    </tr>\n",
       "    <tr>\n",
       "      <th>4</th>\n",
       "      <td>4</td>\n",
       "      <td>Animal Farm</td>\n",
       "      <td>George Orwell</td>\n",
       "      <td>Librarian's note: There is an Alternate Cover ...</td>\n",
       "      <td>['Classics', 'Fiction', 'Dystopia', 'Fantasy',...</td>\n",
       "      <td>3.98</td>\n",
       "      <td>3,575,172</td>\n",
       "      <td>https://www.goodreads.com/book/show/170448.Ani...</td>\n",
       "      <td>librarians note alternate cover edition editio...</td>\n",
       "    </tr>\n",
       "  </tbody>\n",
       "</table>\n",
       "</div>"
      ],
      "text/plain": [
       "   idx                                               Book         Author  \\\n",
       "0    0                              To Kill a Mockingbird     Harper Lee   \n",
       "1    1  Harry Potter and the Philosopher’s Stone (Harr...   J.K. Rowling   \n",
       "2    2                                Pride and Prejudice    Jane Austen   \n",
       "3    3                          The Diary of a Young Girl     Anne Frank   \n",
       "4    4                                        Animal Farm  George Orwell   \n",
       "\n",
       "                                         Description  \\\n",
       "0  The unforgettable novel of a childhood in a sl...   \n",
       "1  Harry Potter thinks he is an ordinary boy - un...   \n",
       "2  Since its immediate success in 1813, Pride and...   \n",
       "3  Discovered in the attic in which she spent the...   \n",
       "4  Librarian's note: There is an Alternate Cover ...   \n",
       "\n",
       "                                              Genres  Avg_Rating Num_Ratings  \\\n",
       "0  ['Classics', 'Fiction', 'Historical Fiction', ...        4.27   5,691,311   \n",
       "1  ['Fantasy', 'Fiction', 'Young Adult', 'Magic',...        4.47   9,278,135   \n",
       "2  ['Classics', 'Fiction', 'Romance', 'Historical...        4.28   3,944,155   \n",
       "3  ['Classics', 'Nonfiction', 'History', 'Biograp...        4.18   3,488,438   \n",
       "4  ['Classics', 'Fiction', 'Dystopia', 'Fantasy',...        3.98   3,575,172   \n",
       "\n",
       "                                                 URL  \\\n",
       "0  https://www.goodreads.com/book/show/2657.To_Ki...   \n",
       "1  https://www.goodreads.com/book/show/72193.Harr...   \n",
       "2  https://www.goodreads.com/book/show/1885.Pride...   \n",
       "3  https://www.goodreads.com/book/show/48855.The_...   \n",
       "4  https://www.goodreads.com/book/show/170448.Ani...   \n",
       "\n",
       "                                      processed_desc  \n",
       "0  unforgettable novel childhood sleepy southern ...  \n",
       "1  harry potter thinks ordinary boy rescued owl t...  \n",
       "2  since immediate success 1813 pride prejudice r...  \n",
       "3  discovered attic spent last years life anne fr...  \n",
       "4  librarians note alternate cover edition editio...  "
      ]
     },
     "execution_count": 192,
     "metadata": {},
     "output_type": "execute_result"
    }
   ],
   "source": [
    "df.head()"
   ]
  },
  {
   "cell_type": "code",
   "execution_count": 6,
   "metadata": {},
   "outputs": [
    {
     "name": "stderr",
     "output_type": "stream",
     "text": [
      "<ipython-input-6-f4686e196193>:8: SettingWithCopyWarning: \n",
      "A value is trying to be set on a copy of a slice from a DataFrame.\n",
      "Try using .loc[row_indexer,col_indexer] = value instead\n",
      "\n",
      "See the caveats in the documentation: https://pandas.pydata.org/pandas-docs/stable/user_guide/indexing.html#returning-a-view-versus-a-copy\n",
      "  filt_df['idx'] = [i for i in range(len(filt_df))] #reset manual idx\n"
     ]
    },
    {
     "name": "stdout",
     "output_type": "stream",
     "text": [
      "Processing batch number 0:     Records 0 to 100\n",
      "Processing batch number 1:     Records 100 to 200\n",
      "Processing batch number 2:     Records 200 to 300\n",
      "Processing batch number 3:     Records 300 to 400\n",
      "Processing batch number 4:     Records 400 to 500\n",
      "Processing batch number 5:     Records 500 to 600\n",
      "Processing batch number 6:     Records 600 to 700\n",
      "Processing batch number 7:     Records 700 to 800\n",
      "Processing batch number 8:     Records 800 to 900\n",
      "Processing batch number 9:     Records 900 to 1000\n",
      "Processing batch number 10:     Records 1000 to 1100\n",
      "Processing batch number 11:     Records 1100 to 1200\n",
      "Processing batch number 12:     Records 1200 to 1300\n",
      "Processing batch number 13:     Records 1300 to 1400\n",
      "Processing batch number 14:     Records 1400 to 1500\n",
      "Processing batch number 15:     Records 1500 to 1600\n",
      "Processing batch number 16:     Records 1600 to 1700\n",
      "Processing batch number 17:     Records 1700 to 1800\n",
      "Processing batch number 18:     Records 1800 to 1900\n",
      "Processing batch number 19:     Records 1900 to 2000\n",
      "Processing batch number 20:     Records 2000 to 2100\n",
      "Processing batch number 21:     Records 2100 to 2200\n",
      "Processing batch number 22:     Records 2200 to 2300\n",
      "Processing batch number 23:     Records 2300 to 2400\n",
      "Processing batch number 24:     Records 2400 to 2500\n",
      "Processing batch number 25:     Records 2500 to 2600\n",
      "Processing batch number 26:     Records 2600 to 2700\n",
      "Processing batch number 27:     Records 2700 to 2800\n",
      "Processing batch number 28:     Records 2800 to 2900\n",
      "Processing batch number 29:     Records 2900 to 3000\n",
      "Processing batch number 30:     Records 3000 to 3100\n",
      "Processing batch number 31:     Records 3100 to 3200\n",
      "Processing batch number 32:     Records 3200 to 3300\n",
      "Processing batch number 33:     Records 3300 to 3400\n",
      "Processing batch number 34:     Records 3400 to 3500\n",
      "Processing batch number 35:     Records 3500 to 3600\n",
      "Processing batch number 36:     Records 3600 to 3700\n",
      "Processing batch number 37:     Records 3700 to 3800\n",
      "Processing batch number 38:     Records 3800 to 3900\n",
      "Processing batch number 39:     Records 3900 to 4000\n",
      "Processing batch number 40:     Records 4000 to 4100\n",
      "Processing batch number 41:     Records 4100 to 4200\n",
      "Processing batch number 42:     Records 4200 to 4300\n",
      "Processing batch number 43:     Records 4300 to 4400\n",
      "Processing batch number 44:     Records 4400 to 4500\n",
      "Processing batch number 45:     Records 4500 to 4600\n",
      "Processing batch number 46:     Records 4600 to 4700\n",
      "Processing batch number 47:     Records 4700 to 4800\n",
      "Processing batch number 48:     Records 4800 to 4900\n",
      "Processing batch number 49:     Records 4900 to 5000\n",
      "Processing batch number 50:     Records 5000 to 5100\n",
      "Processing batch number 51:     Records 5100 to 5200\n",
      "Processing batch number 52:     Records 5200 to 5300\n",
      "Processing batch number 53:     Records 5300 to 5400\n",
      "Processing batch number 54:     Records 5400 to 5500\n",
      "Processing batch number 55:     Records 5500 to 5600\n",
      "Processing batch number 56:     Records 5600 to 5700\n",
      "Processing batch number 57:     Records 5700 to 5800\n",
      "Processing batch number 58:     Records 5800 to 5900\n",
      "Processing batch number 59:     Records 5900 to 6000\n",
      "Processing batch number 60:     Records 6000 to 6100\n",
      "Processing batch number 61:     Records 6100 to 6200\n",
      "Processing batch number 62:     Records 6200 to 6300\n",
      "Processing batch number 63:     Records 6300 to 6400\n",
      "Processing batch number 64:     Records 6400 to 6500\n",
      "Processing batch number 65:     Records 6500 to 6600\n",
      "Processing batch number 66:     Records 6600 to 6700\n",
      "Processing batch number 67:     Records 6700 to 6800\n",
      "Processing batch number 68:     Records 6800 to 6900\n",
      "Processing batch number 69:     Records 6900 to 7000\n",
      "Processing batch number 70:     Records 7000 to 7100\n",
      "Processing batch number 71:     Records 7100 to 7200\n",
      "Processing batch number 72:     Records 7200 to 7300\n",
      "Processing batch number 73:     Records 7300 to 7400\n",
      "Processing batch number 74:     Records 7400 to 7500\n",
      "Processing batch number 75:     Records 7500 to 7600\n",
      "Processing batch number 76:     Records 7600 to 7700\n",
      "Processing batch number 77:     Records 7700 to 7800\n",
      "Processing batch number 78:     Records 7800 to 7900\n",
      "Processing batch number 79:     Records 7900 to 8000\n",
      "Processing batch number 80:     Records 8000 to 8100\n",
      "Processing batch number 81:     Records 8100 to 8200\n",
      "Processing batch number 82:     Records 8200 to 8300\n",
      "Processing batch number 83:     Records 8300 to 8400\n",
      "Processing batch number 84:     Records 8400 to 8500\n",
      "Processing batch number 85:     Records 8500 to 8600\n",
      "Processing batch number 86:     Records 8600 to 8700\n",
      "Processing batch number 87:     Records 8700 to 8800\n",
      "Processing batch number 88:     Records 8800 to 8900\n",
      "Processing batch number 89:     Records 8900 to 9000\n",
      "Processing batch number 90:     Records 9000 to 9100\n",
      "Processing batch number 91:     Records 9100 to 9200\n",
      "Processing batch number 92:     Records 9200 to 9300\n",
      "Processing batch number 93:     Records 9300 to 9400\n",
      "Processing batch number 94:     Records 9400 to 9500\n",
      "Processing batch number 95:     Records 9500 to 9600\n",
      "Processing batch number 96:     Records 9600 to 9700\n",
      "Processing batch number 97:     Records 9700 to 9800\n",
      "Processing batch number 98:     Records 9800 to 9900\n"
     ]
    }
   ],
   "source": [
    "import EmbeddingModel\n",
    "\n",
    "\n",
    "batch_size = 100 \n",
    "neighbors = 3\n",
    "\n",
    "filt_df = df[df[processed_col]!='']\n",
    "filt_df['idx'] = [i for i in range(len(filt_df))] #reset manual idx\n",
    "\n",
    "model = EmbeddingModel.EmbeddingsModel(model_name, HF_API_KEY)\n",
    "\n",
    "start_idx = 0\n",
    "embeddings = []\n",
    "processed_col_idx = 8\n",
    "\n",
    "for idx, i in enumerate(range(0,len(filt_df), batch_size)):\n",
    "    print(f'Processing batch number {idx}:     Records {i} to {i+batch_size}')\n",
    "    end_idx = i + batch_size\n",
    "    input_lst = filt_df.iloc[i:end_idx,processed_col_idx].tolist()\n",
    "    batched_embeddings = model.get_embeddings(input_lst)\n",
    "    for val in batched_embeddings:\n",
    "        embeddings.append(np.array(val))"
   ]
  },
  {
   "cell_type": "code",
   "execution_count": 171,
   "metadata": {},
   "outputs": [
    {
     "name": "stderr",
     "output_type": "stream",
     "text": [
      "c:\\Users\\rgers\\anaconda3\\lib\\site-packages\\sklearn\\utils\\validation.py:70: FutureWarning: Pass perplexity=30, early_exaggeration=300, learning_rate=0 as keyword args. From version 1.0 (renaming of 0.25) passing these as positional arguments will result in an error\n",
      "  warnings.warn(f\"Pass {args_msg} as keyword args. From version \"\n"
     ]
    }
   ],
   "source": [
    "from AnalysisModels import TSNE_Wrapper, Clust_Wrapper\n",
    "\n",
    "model_config = {\n",
    "    'tsne_': {'n_components': 2, 'perplexity': 30, 'n_iter':300, 'random_state':0},\n",
    "    'clust_': {'n_clusters':10, 'random_state':0}\n",
    "}\n",
    "\n",
    "tune = False\n",
    "param_grid = {\n",
    "    'perplexity': [5,10,30,50,100],\n",
    "    'n_iter': [200,300,500,700,1000]\n",
    "}\n",
    "\n",
    "tsne_model = TSNE_Wrapper(**model_config['tsne_'])\n",
    "embeddings_2d = tsne_model.fit(embeddings)\n",
    "\n",
    "if tune:\n",
    "    tsne_model.tune_model(param_grid)\n",
    "    embeddings_2d = tsne_model.fit(embeddings)\n",
    "\n",
    "clust_model = Clust_Wrapper(**model_config['clust_'])\n",
    "clust_labels = clust_model.get_clusters(embeddings_2d)\n",
    "\n",
    "clust_to_idx = {}\n",
    "for idx, val in enumerate(clust_labels):\n",
    "    if val in clust_to_idx.keys():\n",
    "        clust_to_idx[val] += [idx]\n",
    "    else:\n",
    "        clust_to_idx[val] = [idx]"
   ]
  },
  {
   "cell_type": "code",
   "execution_count": 172,
   "metadata": {},
   "outputs": [],
   "source": [
    "all_clust_dict = {}\n",
    "for val in clust_to_idx.values():\n",
    "\n",
    "    val_idx  = [i for i in range(len(val))]\n",
    "    val_remap = dict(zip(val_idx, val))\n",
    "\n",
    "    vecs = [vec for idx,vec in enumerate(embeddings) if idx in val]\n",
    "    similar_results = model.get_similar_docs(vecs, topk = 4)\n",
    "    for i,v in enumerate(val):\n",
    "        all_clust_dict[v] = [val_remap[int(j)] for j in similar_results[i]]"
   ]
  },
  {
   "cell_type": "markdown",
   "metadata": {},
   "source": [
    "### Preparing sample for output"
   ]
  },
  {
   "cell_type": "code",
   "execution_count": 173,
   "metadata": {},
   "outputs": [],
   "source": [
    "#Util Functions\n",
    "def get_dict_mapping(df, input_dict, map_col_idx):\n",
    "    output_dict = {}\n",
    "    for k, similar_idx in input_dict.items():\n",
    "        similar_item = [df.iloc[i,map_col_idx] for i in similar_idx if i != k]\n",
    "        output_dict[k] = similar_item\n",
    "    return output_dict\n",
    "\n",
    "def generate_sample(df, keep_cols, explode_cols, sample_frac = 0.15):\n",
    "    sample_df = df.sample(frac = sample_frac, random_state=44)\n",
    "    sample_df = sample_df[keep_cols].explode(explode_cols)\n",
    "    sample_df.to_csv('sample_output_v1_modelB.csv', index=False)"
   ]
  },
  {
   "cell_type": "code",
   "execution_count": 174,
   "metadata": {},
   "outputs": [],
   "source": [
    "#source idx to similar titles\n",
    "idx_to_title = get_dict_mapping(filt_df, all_clust_dict, map_col_idx=1)\n",
    "idx_to_author = get_dict_mapping(filt_df, all_clust_dict, map_col_idx=2)\n",
    "idx_to_desc = get_dict_mapping(filt_df, all_clust_dict, map_col_idx=3)"
   ]
  },
  {
   "cell_type": "code",
   "execution_count": 175,
   "metadata": {},
   "outputs": [
    {
     "name": "stderr",
     "output_type": "stream",
     "text": [
      "<ipython-input-175-387529cda0e2>:1: SettingWithCopyWarning: \n",
      "A value is trying to be set on a copy of a slice from a DataFrame.\n",
      "Try using .loc[row_indexer,col_indexer] = value instead\n",
      "\n",
      "See the caveats in the documentation: https://pandas.pydata.org/pandas-docs/stable/user_guide/indexing.html#returning-a-view-versus-a-copy\n",
      "  filt_df['similar_titl'] = filt_df['idx'].map(idx_to_title)\n",
      "<ipython-input-175-387529cda0e2>:2: SettingWithCopyWarning: \n",
      "A value is trying to be set on a copy of a slice from a DataFrame.\n",
      "Try using .loc[row_indexer,col_indexer] = value instead\n",
      "\n",
      "See the caveats in the documentation: https://pandas.pydata.org/pandas-docs/stable/user_guide/indexing.html#returning-a-view-versus-a-copy\n",
      "  filt_df['similar_auth'] = filt_df['idx'].map(idx_to_author)\n",
      "<ipython-input-175-387529cda0e2>:3: SettingWithCopyWarning: \n",
      "A value is trying to be set on a copy of a slice from a DataFrame.\n",
      "Try using .loc[row_indexer,col_indexer] = value instead\n",
      "\n",
      "See the caveats in the documentation: https://pandas.pydata.org/pandas-docs/stable/user_guide/indexing.html#returning-a-view-versus-a-copy\n",
      "  filt_df['similar_desc'] = filt_df['idx'].map(idx_to_desc)\n"
     ]
    }
   ],
   "source": [
    "filt_df['similar_titl'] = filt_df['idx'].map(idx_to_title)\n",
    "filt_df['similar_auth'] = filt_df['idx'].map(idx_to_author)\n",
    "filt_df['similar_desc'] = filt_df['idx'].map(idx_to_desc)"
   ]
  },
  {
   "cell_type": "code",
   "execution_count": 176,
   "metadata": {},
   "outputs": [],
   "source": [
    "cols_to_expand = ['similar_titl', 'similar_auth', 'similar_desc']\n",
    "cols_to_keep = ['Book', 'Author', 'Description'] + cols_to_expand\n",
    "\n",
    "generate_sample(filt_df, cols_to_keep, cols_to_expand, sample_frac=.15)"
   ]
  },
  {
   "cell_type": "markdown",
   "metadata": {},
   "source": [
    "### Model Evaluation"
   ]
  },
  {
   "cell_type": "code",
   "execution_count": 177,
   "metadata": {},
   "outputs": [],
   "source": [
    "#utils\n",
    "\n",
    "def get_vec_groupings(df, input_dict, embedding_col = 12):\n",
    "    output_lst = []\n",
    "    for group in input_dict.values():\n",
    "        group_lst = [df.iloc[i,embedding_col] for i in group]\n",
    "        output_lst.append(group_lst)\n",
    "    return output_lst\n",
    "\n",
    "def measure_affinity(grouped_vecs, calc_type = 'cosine', centroid_calc = False):\n",
    "    output_lst = []\n",
    "\n",
    "    for idx, group in enumerate(grouped_vecs):\n",
    "        centroid = np.mean(group, axis = 0) if centroid_calc else group[0]\n",
    "        if calc_type == 'cosine':   \n",
    "            cluster_affinity = np.mean([1-cosine(centroid,vec) for vec in group[1:]])\n",
    "        elif calc_type == 'euclidean':\n",
    "            cluster_affinity = np.sum([(np.subtract(centroid,vec))**2 for vec in group])\n",
    "        output_lst.append(cluster_affinity)\n",
    "    return output_lst"
   ]
  },
  {
   "cell_type": "code",
   "execution_count": 178,
   "metadata": {},
   "outputs": [
    {
     "data": {
      "text/plain": [
       "(array([1.000e+00, 2.400e+01, 8.100e+01, 4.290e+02, 1.789e+03, 4.283e+03,\n",
       "        2.842e+03, 3.820e+02, 7.000e+00, 5.000e+00]),\n",
       " array([0.16009549, 0.22815088, 0.29620628, 0.36426168, 0.43231707,\n",
       "        0.50037247, 0.56842786, 0.63648326, 0.70453865, 0.77259405,\n",
       "        0.84064945]),\n",
       " <BarContainer object of 10 artists>)"
      ]
     },
     "execution_count": 178,
     "metadata": {},
     "output_type": "execute_result"
    },
    {
     "data": {
      "image/png": "[encoded data removed]",
      "text/plain": [
       "<Figure size 432x288 with 1 Axes>"
      ]
     },
     "metadata": {
      "needs_background": "light"
     },
     "output_type": "display_data"
    }
   ],
   "source": [
    "#All  Model B matches variability\n",
    "grouped_embeddings = get_vec_groupings(filt_df, all_clust_dict)\n",
    "cluster_affinities = measure_affinity(grouped_embeddings, calc_type='cosine')\n",
    "\n",
    "affinity_dict = dict(zip(all_clust_dict.keys(), cluster_affinities))\n",
    "\n",
    "counts, bins = np.histogram(cluster_affinities)\n",
    "plt.hist(bins[:-1], bins, weights=counts)"
   ]
  },
  {
   "cell_type": "code",
   "execution_count": 179,
   "metadata": {},
   "outputs": [
    {
     "name": "stderr",
     "output_type": "stream",
     "text": [
      "<ipython-input-179-781b141895eb>:7: SettingWithCopyWarning: \n",
      "A value is trying to be set on a copy of a slice from a DataFrame.\n",
      "Try using .loc[row_indexer,col_indexer] = value instead\n",
      "\n",
      "See the caveats in the documentation: https://pandas.pydata.org/pandas-docs/stable/user_guide/indexing.html#returning-a-view-versus-a-copy\n",
      "  sample_df['cosine_similarity'] = baseline_model.embed_data()\n"
     ]
    }
   ],
   "source": [
    "from BaselineModel import BaselineModel\n",
    "\n",
    "baseline_model = BaselineModel('./model_results3.csv', model)\n",
    "baseline_model.get_sample()\n",
    "sample_df = baseline_model.sample_df\n",
    "sample_indices = baseline_model.sample_indices\n",
    "sample_df['cosine_similarity'] = baseline_model.embed_data()"
   ]
  },
  {
   "cell_type": "code",
   "execution_count": 180,
   "metadata": {},
   "outputs": [
    {
     "name": "stderr",
     "output_type": "stream",
     "text": [
      "c:\\Users\\rgers\\anaconda3\\lib\\site-packages\\numpy\\core\\fromnumeric.py:3419: RuntimeWarning: Mean of empty slice.\n",
      "  return _methods._mean(a, axis=axis, dtype=dtype,\n",
      "c:\\Users\\rgers\\anaconda3\\lib\\site-packages\\numpy\\core\\_methods.py:188: RuntimeWarning: invalid value encountered in double_scalars\n",
      "  ret = ret.dtype.type(ret / rcount)\n"
     ]
    },
    {
     "data": {
      "text/plain": [
       "(array([ 2.,  1.,  3., 12., 16., 28., 19.,  9.,  4.,  4.]),\n",
       " array([0.        , 0.0614929 , 0.12298579, 0.18447869, 0.24597158,\n",
       "        0.30746448, 0.36895738, 0.43045027, 0.49194317, 0.55343606,\n",
       "        0.61492896]),\n",
       " <BarContainer object of 10 artists>)"
      ]
     },
     "execution_count": 180,
     "metadata": {},
     "output_type": "execute_result"
    },
    {
     "data": {
      "image/png": "[encoded data removed]",
      "text/plain": [
       "<Figure size 432x288 with 1 Axes>"
      ]
     },
     "metadata": {
      "needs_background": "light"
     },
     "output_type": "display_data"
    }
   ],
   "source": [
    "sample_affinity = {}\n",
    "for idx in sample_indices:\n",
    "    filter = sample_df['source_doc'] == idx\n",
    "    scores = sample_df[filter]['cosine_similarity'].tolist()\n",
    "    sample_affinity[idx] = scores\n",
    "\n",
    "sample_affinities = [np.mean(v) for v in sample_affinity.values()]\n",
    "sample_affinities = np.where(np.isnan(sample_affinities), 0, sample_affinities)\n",
    "counts, bins = np.histogram(sample_affinities)\n",
    "plt.hist(bins[:-1], bins, weights=counts)"
   ]
  },
  {
   "cell_type": "code",
   "execution_count": 181,
   "metadata": {},
   "outputs": [
    {
     "data": {
      "text/plain": [
       "(array([ 1.,  1.,  2.,  3.,  6., 21., 29., 18., 15.,  2.]),\n",
       " array([0.29818373, 0.33531859, 0.37245345, 0.40958831, 0.44672317,\n",
       "        0.48385803, 0.52099289, 0.55812776, 0.59526262, 0.63239748,\n",
       "        0.66953234]),\n",
       " <BarContainer object of 10 artists>)"
      ]
     },
     "execution_count": 181,
     "metadata": {},
     "output_type": "execute_result"
    },
    {
     "data": {
      "image/png": "[encoded data removed]",
      "text/plain": [
       "<Figure size 432x288 with 1 Axes>"
      ]
     },
     "metadata": {
      "needs_background": "light"
     },
     "output_type": "display_data"
    }
   ],
   "source": [
    "#result dispersions from Model B results for sampled indices\n",
    "\n",
    "sample_modelB_scores= [v for k,v in affinity_dict.items() if k in sample_indices]\n",
    "counts, bins = np.histogram(sample_modelB_scores)\n",
    "plt.hist(bins[:-1], bins, weights=counts)"
   ]
  },
  {
   "cell_type": "code",
   "execution_count": 182,
   "metadata": {},
   "outputs": [],
   "source": [
    "modelB_affinities= []\n",
    "for idx, group in enumerate(grouped_embeddings):\n",
    "        centroid = group[0]\n",
    "        group_affinity = [1-cosine(centroid,vec) for vec in group[1:]]\n",
    "        modelB_affinities.append(group_affinity)\n",
    "\n",
    "modelB_disp_dict = dict(zip(all_clust_dict.keys(), modelB_affinities))"
   ]
  },
  {
   "cell_type": "code",
   "execution_count": 183,
   "metadata": {},
   "outputs": [],
   "source": [
    "pairwise_dict = {}\n",
    "for k,v in sample_affinities.items():\n",
    "    modelB_results = modelB_affinities[k]\n",
    "    all_results = v + modelB_results\n",
    "    top3_results = sorted(all_results, reverse=True)[:3]\n",
    "    pairwise_dict[k] = sum(1 for element in modelB_results if element in top3_results)"
   ]
  },
  {
   "cell_type": "code",
   "execution_count": 184,
   "metadata": {},
   "outputs": [
    {
     "name": "stdout",
     "output_type": "stream",
     "text": [
      "Model A (TF-IDF) Pairwise Precision:                   0.1360544217687075\n",
      "Model B (Transformer Embeddings) Pairwise Precision:   0.8639455782312925\n"
     ]
    }
   ],
   "source": [
    "modelA_pairwise_precision = np.sum([(3-i) for i in pairwise_dict.values()]) / (len(pairwise_dict) *3)\n",
    "modelB_pairwise_precision = np.sum(list(pairwise_dict.values())) / (len(pairwise_dict) *3)\n",
    "\n",
    "print(f'Model A (TF-IDF) Pairwise Precision:                   {modelA_pairwise_precision}')\n",
    "print(f'Model B (Transformer Embeddings) Pairwise Precision:   {modelB_pairwise_precision}')"
   ]
  },
  {
   "cell_type": "markdown",
   "metadata": {},
   "source": [
    "### Run Validation Tests"
   ]
  },
  {
   "cell_type": "code",
   "execution_count": 191,
   "metadata": {},
   "outputs": [
    {
     "data": {
      "text/plain": [
       "['test_stop_words Passed',\n",
       " 'test_removed_records Passed',\n",
       " 'test_embedding_lengths Passed',\n",
       " 'test_neighbor_lengths Passed',\n",
       " 'test_embedding_consistency Passed']"
      ]
     },
     "execution_count": 191,
     "metadata": {},
     "output_type": "execute_result"
    }
   ],
   "source": [
    "from ModelTesting import TestSuite \n",
    "\n",
    "processed_col = 'processed_desc'\n",
    "processed_desc = df[processed_col].tolist()\n",
    "test_cases = {\n",
    "    test_suite.test_stop_words : {'stopwords': stopwords, 'lst': processed_desc},\n",
    "    test_suite.test_removed_records : {'df2_length': len(filt_df), 'filt_length': len([i for i in processed_desc if i != ''])},\n",
    "    test_suite.test_embedding_lengths : {'embeddings': embeddings},\n",
    "    test_suite.test_neighbor_lengths : {'input_dict': all_clust_dict, 'k_neighbors': 4},\n",
    "    test_suite.test_embedding_consistency : {'model': model, 'data': processed_desc[:10]},\n",
    "    # 'test_embedding_robustness' : {},\n",
    "    # test_suite.test_embedding_processing:{'batch_size': 100, 'processing_goal' : 70}\n",
    "}\n",
    "\n",
    "test_suite = TestSuite(test_cases)\n",
    "\n",
    "test_suite.run_tests()"
   ]
  },
  {
   "cell_type": "code",
   "execution_count": null,
   "metadata": {},
   "outputs": [],
   "source": []
  }
 ],
 "metadata": {
  "kernelspec": {
   "display_name": "base",
   "language": "python",
   "name": "python3"
  },
  "language_info": {
   "codemirror_mode": {
    "name": "ipython",
    "version": 3
   },
   "file_extension": ".py",
   "mimetype": "text/x-python",
   "name": "python",
   "nbconvert_exporter": "python",
   "pygments_lexer": "ipython3",
   "version": "3.8.8"
  }
 },
 "nbformat": 4,
 "nbformat_minor": 2
}
